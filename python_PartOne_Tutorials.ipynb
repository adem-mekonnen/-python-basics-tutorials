{
 "cells": [
  {
   "cell_type": "markdown",
   "id": "faab4b48",
   "metadata": {},
   "source": [
    "# display statments in python "
   ]
  },
  {
   "cell_type": "code",
   "execution_count": 1,
   "id": "e65cef6e",
   "metadata": {},
   "outputs": [
    {
     "name": "stdout",
     "output_type": "stream",
     "text": [
      "hello world\n"
     ]
    }
   ],
   "source": [
    "print('hello world')"
   ]
  },
  {
   "cell_type": "markdown",
   "id": "afce6a97",
   "metadata": {},
   "source": [
    "# Standard Data Types\n"
   ]
  },
  {
   "cell_type": "raw",
   "id": "86925b8f",
   "metadata": {},
   "source": [
    "Python has five standard data types-\n",
    "     Numbers\n",
    "     String\n",
    "     List\n",
    "     Tuple\n",
    "     Dictionary"
   ]
  },
  {
   "cell_type": "markdown",
   "id": "a618a932",
   "metadata": {},
   "source": [
    "# Variable names\n",
    "There are just a couple of rules to follow when naming your variables.\n"
   ]
  },
  {
   "cell_type": "raw",
   "id": "e8d0d40b",
   "metadata": {},
   "source": [
    " Variable names can contain letters, numbers, and the underscore.\n",
    "• Variable names cannot contain spaces.\n",
    "• Variable names cannot start with a number.\n",
    "• Case matters—for instance, temp and Temp are different."
   ]
  },
  {
   "cell_type": "code",
   "execution_count": 6,
   "id": "5e984548",
   "metadata": {},
   "outputs": [
    {
     "name": "stdout",
     "output_type": "stream",
     "text": [
      "john\n",
      "50\n",
      "True\n"
     ]
    }
   ],
   "source": [
    "# #declare varibale\n",
    "character_name =\"john\"\n",
    "x = 50\n",
    "is_male = True\n",
    "print(character_name)\n",
    "print(x)\n",
    "print(is_male)"
   ]
  },
  {
   "cell_type": "markdown",
   "id": "080ce0e8",
   "metadata": {},
   "source": [
    "# Python Strings\n",
    "Strings in Python are identified as a contiguous set of characters represented in the\n",
    "quotation marks. Python allows either pair of single or double quotes. Subsets of strings\n",
    "can be taken using the slice operator ([ ] and [:] ) with indexes starting at 0 in the\n",
    "beginning of the string and working their way from -1 to the end.\n",
    "The plus (+) sign is the string concatenation operator and the asterisk (*) is the repetition\n",
    "operator. For example-"
   ]
  },
  {
   "cell_type": "code",
   "execution_count": 7,
   "id": "3da0359b",
   "metadata": {},
   "outputs": [
    {
     "name": "stdout",
     "output_type": "stream",
     "text": [
      "hello world\n",
      "1\n",
      "HELLO WORLD\n",
      "hello world\n",
      "False\n",
      "new world\n"
     ]
    }
   ],
   "source": [
    "phrase = 'hello world'\n",
    "print(phrase);\n",
    "print(phrase.index('e'))\n",
    "print(phrase.upper())\n",
    "print(phrase.lower())\n",
    "print(phrase.isupper())\n",
    "print(phrase.replace('hello', 'new'))"
   ]
  },
  {
   "cell_type": "markdown",
   "id": "723e4714",
   "metadata": {},
   "source": [
    "# Python Numbers\n",
    "Number data types store numeric values. Number objects are created when you assign a\n",
    "value to them. -"
   ]
  },
  {
   "cell_type": "raw",
   "id": "a3343d6c",
   "metadata": {},
   "source": [
    "Python supports three different numerical types −\n",
    "     int (signed integers)\n",
    "     float (floating point real values)\n",
    "     complex (complex numbers)"
   ]
  },
  {
   "cell_type": "code",
   "execution_count": 8,
   "id": "f711cb48",
   "metadata": {},
   "outputs": [
    {
     "name": "stdout",
     "output_type": "stream",
     "text": [
      "5\n",
      "0\n",
      "35 is my favorite numbers\n"
     ]
    }
   ],
   "source": [
    "print(2 + 3)\n",
    "print(10 % 5)\n",
    "a = 35\n",
    "print(str(a) + ' is my favorite numbers')"
   ]
  },
  {
   "cell_type": "code",
   "execution_count": 9,
   "id": "47fbc422",
   "metadata": {},
   "outputs": [
    {
     "name": "stdout",
     "output_type": "stream",
     "text": [
      "50\n",
      "23\n",
      "3\n",
      "4\n",
      "3\n",
      "4.0\n"
     ]
    }
   ],
   "source": [
    "from math import *\n",
    "print(max(24, 50))\n",
    "print(min(23, 56))\n",
    "print(floor(3.999))\n",
    "print(ceil(3.222))\n",
    "print(round(3.4))\n",
    "print(sqrt(16))\n"
   ]
  },
  {
   "cell_type": "markdown",
   "id": "69e481af",
   "metadata": {},
   "source": [
    "# Getting input from the users"
   ]
  },
  {
   "cell_type": "code",
   "execution_count": 11,
   "id": "c29d17d5",
   "metadata": {},
   "outputs": [
    {
     "name": "stdout",
     "output_type": "stream",
     "text": [
      "enter your name adem\n",
      "enter your age 30\n",
      "hello adem your age is 30\n"
     ]
    }
   ],
   "source": [
    "name = input('enter your name ')\n",
    "age = int(input('enter your age '))\n",
    "print('hello '+ name + ' your age is' + ' ' + str(age))\n"
   ]
  },
  {
   "cell_type": "markdown",
   "id": "c7b659fe",
   "metadata": {},
   "source": [
    "Write a python program to display the sum of two numbers accept from the users"
   ]
  },
  {
   "cell_type": "code",
   "execution_count": 12,
   "id": "344aabb8",
   "metadata": {},
   "outputs": [
    {
     "name": "stdout",
     "output_type": "stream",
     "text": [
      "enter number one 20\n",
      "enter number two 20\n",
      "the sum of two numbers are :40\n"
     ]
    }
   ],
   "source": [
    "num1 = eval(input('enter number one'))\n",
    "num2 = eval(input('enter number two'))\n",
    "sum = num1 + num1\n",
    "print('the sum of two numbers are :' +  str(sum))"
   ]
  },
  {
   "cell_type": "markdown",
   "id": "ec31ed68",
   "metadata": {},
   "source": [
    "# Python Lists\n",
    "Lists are the most versatile of Python's compound data types. A list contains items\n",
    "separated by commas and enclosed within square brackets ([]). To some extent, lists are\n",
    "similar to arrays in C. One of the differences between them is that all the items belonging\n",
    "to a list can be of different data type.\n",
    "The values stored in a list can be accessed using the slice operator ([ ] and [:]) with\n",
    "indexes starting at 0 in the beginning of the list and working their way to end -1. The plus\n",
    "(+) sign is the list concatenation operator, and the asterisk (*) is the repetition operator."
   ]
  },
  {
   "cell_type": "code",
   "execution_count": 13,
   "id": "13ddbd0e",
   "metadata": {},
   "outputs": [
    {
     "name": "stdout",
     "output_type": "stream",
     "text": [
      "['aymen', 'mesud', 'mahir', 24]\n",
      "aymen\n",
      "['mahir', 24]\n",
      "['mesud', 'mahir']\n"
     ]
    }
   ],
   "source": [
    "firendsName = ['aymen', 'mesud', 'mahir', 24]\n",
    "print(firendsName)\n",
    "print(firendsName[0])\n",
    "print(firendsName[2:])\n",
    "print(firendsName[1:3])"
   ]
  },
  {
   "cell_type": "markdown",
   "id": "524bcc3c",
   "metadata": {},
   "source": [
    "# Delete List Elements\n",
    "To remove a list element, you can use either the del statement if you know exactly which\n",
    "element(s) you are deleting. You can use the remove() method if you do not know exactly\n",
    "which items to delete."
   ]
  },
  {
   "cell_type": "code",
   "execution_count": 14,
   "id": "e6397ccd",
   "metadata": {},
   "outputs": [
    {
     "name": "stdout",
     "output_type": "stream",
     "text": [
      "['physics', 'chemistry', 1997, 2000]\n",
      "After deleting value at index 2 :  ['physics', 'chemistry', 2000]\n"
     ]
    }
   ],
   "source": [
    "list = ['physics', 'chemistry', 1997, 2000]\n",
    "print (list)\n",
    "del list[2]\n",
    "print (\"After deleting value at index 2 : \", list)"
   ]
  },
  {
   "cell_type": "markdown",
   "id": "9380932e",
   "metadata": {},
   "source": [
    "# Updating Lists\n",
    "You can update single or multiple elements of lists by giving the slice on the left-hand side\n",
    "of the assignment operator, and you can add to elements in a list with the append()\n",
    "method."
   ]
  },
  {
   "cell_type": "code",
   "execution_count": 15,
   "id": "58b43f6b",
   "metadata": {},
   "outputs": [
    {
     "name": "stdout",
     "output_type": "stream",
     "text": [
      "['aymen', 'mesud', 'jhon', 24]\n",
      "4\n",
      "None\n",
      "['mesud', 'jhon', 24]\n",
      "None\n",
      "['mesud', 'jhon', 24, 'aymen']\n"
     ]
    }
   ],
   "source": [
    "firendsName[2] ='jhon'\n",
    "print(firendsName)\n",
    "print(len(firendsName))\n",
    "print(firendsName.remove('aymen'))\n",
    "print(firendsName)\n",
    "print(firendsName.append('aymen'))\n",
    "print(firendsName)"
   ]
  },
  {
   "cell_type": "markdown",
   "id": "a60879fd",
   "metadata": {},
   "source": [
    "# Python Tuples\n",
    "A tuple is another sequence data type that is similar to the list. A tuple consists of a\n",
    "number of values separated by commas. Unlike lists, however, tuples are enclosed within\n",
    "parenthesis.\n",
    "The main difference between lists and tuples is- Lists are enclosed in brackets ( [ ] ) and\n",
    "their elements and size can be changed, while tuples are enclosed in parentheses ( ( ) )\n",
    "and cannot be updated. Tuples can be thought of as read-only lists."
   ]
  },
  {
   "cell_type": "code",
   "execution_count": 16,
   "id": "3e69e4c5",
   "metadata": {},
   "outputs": [
    {
     "name": "stdout",
     "output_type": "stream",
     "text": [
      "(4, 5)\n",
      "4\n"
     ]
    }
   ],
   "source": [
    "coordinates =(4,5)\n",
    "print(coordinates)\n",
    "print(coordinates[0])"
   ]
  },
  {
   "cell_type": "markdown",
   "id": "68f4ddd8",
   "metadata": {},
   "source": [
    "# Updating Tuples\n",
    "Tuples are immutable, which means you cannot update or change the values of tuple\n",
    "elements. You are able to take portions of the existing tuples to create new tuples as the\n",
    "following example demonstrates."
   ]
  },
  {
   "cell_type": "code",
   "execution_count": 18,
   "id": "52198ee5",
   "metadata": {},
   "outputs": [],
   "source": [
    "#coordinates[0] =5\n",
    "#print(coordinates)"
   ]
  },
  {
   "cell_type": "code",
   "execution_count": 1,
   "id": "15c38948",
   "metadata": {},
   "outputs": [
    {
     "name": "stdout",
     "output_type": "stream",
     "text": [
      "('apple', 'kiwi', 'cherry')\n"
     ]
    }
   ],
   "source": [
    "x = (\"apple\", \"banana\", \"cherry\")\n",
    "y = list(x)\n",
    "y[1] = \"kiwi\"\n",
    "x = tuple(y)\n",
    "\n",
    "print(x)"
   ]
  },
  {
   "cell_type": "code",
   "execution_count": 3,
   "id": "7bb7259b",
   "metadata": {},
   "outputs": [
    {
     "name": "stdout",
     "output_type": "stream",
     "text": [
      "('apple', 'banana', 'cherry', 'orange')\n"
     ]
    }
   ],
   "source": [
    "thistuple = (\"apple\", \"banana\", \"cherry\")\n",
    "y = list(thistuple)\n",
    "y.append(\"orange\")\n",
    "thistuple = tuple(y)\n",
    "print(thistupleistuple)"
   ]
  },
  {
   "cell_type": "markdown",
   "id": "e41387ce",
   "metadata": {},
   "source": [
    "# Python Dictionary\n",
    "Python's dictionaries are kind of hash-table type. They work like associative arrays or\n",
    "hashes found in Perl and consist of key-value pairs. A dictionary key can be almost any\n",
    "Python type, but are usually numbers or strings. Values, on the other hand, can be any\n",
    "arbitrary Python object."
   ]
  },
  {
   "cell_type": "code",
   "execution_count": 25,
   "id": "d6828590",
   "metadata": {},
   "outputs": [
    {
     "name": "stdout",
     "output_type": "stream",
     "text": [
      "dict_keys(['name', 'age', 'course'])\n",
      "dict_values(['mahi', 50, 'artificial'])\n",
      "dict_items([('name', 'mahi'), ('age', 50), ('course', 'artificial')])\n",
      "{'name': 'mahi', 'age': 50, 'course': 'artificial'}\n"
     ]
    }
   ],
   "source": [
    "dic ={'name' : 'mahi', 'age' : 50, 'course':'artificial'}\n",
    "x = dic.keys()\n",
    "y = dic.values()\n",
    "z = dic.items()\n",
    "print(x)\n",
    "print(y)\n",
    "print(z)\n",
    "print(dic)"
   ]
  },
  {
   "cell_type": "code",
   "execution_count": 26,
   "id": "3535ba33",
   "metadata": {},
   "outputs": [
    {
     "name": "stdout",
     "output_type": "stream",
     "text": [
      "mahi\n"
     ]
    }
   ],
   "source": [
    "print(dic['name'])"
   ]
  },
  {
   "cell_type": "code",
   "execution_count": 28,
   "id": "8c03e143",
   "metadata": {},
   "outputs": [
    {
     "name": "stdout",
     "output_type": "stream",
     "text": [
      "{'name': 'mahi', 'age': 70, 'course': 'data science'}\n"
     ]
    }
   ],
   "source": [
    "# updating dictionary\n",
    "dic['age'] = 70\n",
    "dic.update({'course': \"data science\"})\n",
    "print(dic)"
   ]
  },
  {
   "cell_type": "code",
   "execution_count": 24,
   "id": "55429d88",
   "metadata": {},
   "outputs": [
    {
     "name": "stdout",
     "output_type": "stream",
     "text": [
      "{'name': 'mahi', 'corse': 'artificial'}\n"
     ]
    }
   ],
   "source": [
    "# dleting item from dictionary\n",
    "del dic['age']\n",
    "print(dic)"
   ]
  },
  {
   "cell_type": "code",
   "execution_count": 25,
   "id": "1e188296",
   "metadata": {},
   "outputs": [
    {
     "name": "stdout",
     "output_type": "stream",
     "text": [
      "2\n"
     ]
    }
   ],
   "source": [
    "print(len(dic))"
   ]
  },
  {
   "cell_type": "markdown",
   "id": "2e99d5e1",
   "metadata": {},
   "source": [
    "# Adding Items in Dictionary"
   ]
  },
  {
   "cell_type": "code",
   "execution_count": 20,
   "id": "8213842b",
   "metadata": {},
   "outputs": [
    {
     "name": "stdout",
     "output_type": "stream",
     "text": [
      "{1: 'sep', 2: 'oct', 3: 'november', 4: 'janauary'}\n"
     ]
    }
   ],
   "source": [
    "montConcersion={\n",
    "    1 :\"sep\",\n",
    "    2 : \"oct\",\n",
    "    3 : \"november\"\n",
    "}\n",
    "montConcersion[4 ] = \"janauary\"\n",
    "print(montConcersion)"
   ]
  },
  {
   "cell_type": "markdown",
   "id": "dae6af9f",
   "metadata": {},
   "source": [
    "# Removing Items"
   ]
  },
  {
   "cell_type": "code",
   "execution_count": 29,
   "id": "9aaba9de",
   "metadata": {},
   "outputs": [
    {
     "name": "stdout",
     "output_type": "stream",
     "text": [
      "{'brand': 'Ford', 'year': 1964}\n"
     ]
    }
   ],
   "source": [
    "thisdict = {\n",
    "  \"brand\": \"Ford\",\n",
    "  \"model\": \"Mustang\",\n",
    "  \"year\": 1964\n",
    "}\n",
    "thisdict.pop(\"model\")\n",
    "print(thisdict)"
   ]
  },
  {
   "cell_type": "code",
   "execution_count": 30,
   "id": "98d9d700",
   "metadata": {},
   "outputs": [
    {
     "name": "stdout",
     "output_type": "stream",
     "text": [
      "{'brand': 'Ford', 'year': 1964}\n"
     ]
    }
   ],
   "source": [
    "thisdict = {\n",
    "  \"brand\": \"Ford\",\n",
    "  \"model\": \"Mustang\",\n",
    "  \"year\": 1964\n",
    "}\n",
    "del thisdict[\"model\"]\n",
    "print(thisdict)"
   ]
  },
  {
   "cell_type": "markdown",
   "id": "5bee68e7",
   "metadata": {},
   "source": [
    "# Function"
   ]
  },
  {
   "cell_type": "raw",
   "id": "e91792ab",
   "metadata": {},
   "source": [
    "# Defining a Function\n",
    "You can define functions to provide the required functionality. Here are simple rules to\n",
    "define a function in Python.\n",
    " Function blocks begin with the keyword def followed by the function name and\n",
    "parentheses ( ( ) ).\n",
    " Any input parameters or arguments should be placed within these parentheses.\n",
    "You can also define parameters inside these parentheses.\n",
    " The code block within every function starts with a colon (:) and is indented.\n",
    " The statement return [expression] exits a function, optionally passing back an\n",
    "expression to the caller. A return statement with no arguments is the same as\n",
    "return None."
   ]
  },
  {
   "cell_type": "code",
   "execution_count": 29,
   "id": "ba1d9ce2",
   "metadata": {},
   "outputs": [
    {
     "name": "stdout",
     "output_type": "stream",
     "text": [
      "hello adem 46\n"
     ]
    }
   ],
   "source": [
    "def display(name, age):\n",
    "    print('hello ' + name +  ' ' +str(age))\n",
    "display('Mahir', 46)"
   ]
  },
  {
   "cell_type": "code",
   "execution_count": 4,
   "id": "8f09e614",
   "metadata": {},
   "outputs": [
    {
     "name": "stdout",
     "output_type": "stream",
     "text": [
      "2 is a factor of 4\n",
      "3 is a factor of 9\n",
      "2 is a factor of 12\n",
      "3 is a factor of 12\n",
      "Neither 2 nor 3 are factors of 13\n"
     ]
    }
   ],
   "source": [
    "def factors(x):\n",
    "    # notice the use of the negation and the use of 0 as false\n",
    "    if not x % 2:\n",
    "        print(\"2 is a factor of \" + str(x))  \n",
    "    if not x % 3:     \n",
    "        print(\"3 is a factor of \" + str(x))\n",
    "    if (x % 2) and (x % 3):\n",
    "        print(\"Neither 2 nor 3 are factors of \" + str(x))\n",
    "\n",
    "factors(4)\n",
    "factors(9)\n",
    "factors(12)\n",
    "factors(13)"
   ]
  },
  {
   "cell_type": "markdown",
   "id": "913f7c88",
   "metadata": {},
   "source": [
    "# Return Statment"
   ]
  },
  {
   "cell_type": "code",
   "execution_count": 31,
   "id": "fc56f167",
   "metadata": {},
   "outputs": [
    {
     "name": "stdout",
     "output_type": "stream",
     "text": [
      "1000\n"
     ]
    }
   ],
   "source": [
    "def cube(num):\n",
    "   return  num * num * num\n",
    "print(cube(10))"
   ]
  },
  {
   "cell_type": "markdown",
   "id": "d08b2c60",
   "metadata": {},
   "source": [
    "# Lambda functions"
   ]
  },
  {
   "cell_type": "code",
   "execution_count": 11,
   "id": "09d04bfe",
   "metadata": {},
   "outputs": [
    {
     "name": "stdout",
     "output_type": "stream",
     "text": [
      "15\n"
     ]
    }
   ],
   "source": [
    "x = lambda a : a + 10\n",
    "print(x(5))"
   ]
  },
  {
   "cell_type": "code",
   "execution_count": 33,
   "id": "b7ad8171",
   "metadata": {},
   "outputs": [
    {
     "name": "stdout",
     "output_type": "stream",
     "text": [
      "u are admin users\n"
     ]
    }
   ],
   "source": [
    "user = 'user'\n",
    "if(user == 'admin'):\n",
    "    print('u are admin users')"
   ]
  },
  {
   "cell_type": "code",
   "execution_count": 35,
   "id": "8c3c9446",
   "metadata": {},
   "outputs": [
    {
     "name": "stdout",
     "output_type": "stream",
     "text": [
      "u are admin users\n"
     ]
    }
   ],
   "source": [
    "if(user == 'admin'):\n",
    "    print('u are admin users')\n",
    "else :\n",
    "    print('you are gust users')"
   ]
  },
  {
   "cell_type": "code",
   "execution_count": 38,
   "id": "e1c3f8d9",
   "metadata": {},
   "outputs": [
    {
     "name": "stdout",
     "output_type": "stream",
     "text": [
      "you are not a users\n"
     ]
    }
   ],
   "source": [
    "user = 'super'\n",
    "if(user == 'gust'):\n",
    "    print('u are admin users')\n",
    "elif(user == 'admin') :\n",
    "    print('you are gust users')\n",
    "else :\n",
    "    print('you are not a users')"
   ]
  },
  {
   "cell_type": "markdown",
   "id": "61f35140",
   "metadata": {},
   "source": [
    "write a program to compare three numbers using functions"
   ]
  },
  {
   "cell_type": "code",
   "execution_count": 62,
   "id": "c6d24f8d",
   "metadata": {},
   "outputs": [
    {
     "name": "stdout",
     "output_type": "stream",
     "text": [
      "enter number one6\n",
      "enter operand+\n",
      "enter number two4\n",
      "10.0\n"
     ]
    }
   ],
   "source": [
    "num1 = float(input(\"enter number one\"))\n",
    "op = input(\"enter operand\")\n",
    "num2 = float(input(\"enter number two\"))\n",
    "if op == '-':\n",
    "    print(num1 - num2)\n",
    "elif op == '+':\n",
    "     print(num1 + num2)\n",
    "elif op == '*':\n",
    "     print(num1 * num2)\n",
    "elif op == '/':\n",
    "     print(num1 / num2)\n",
    "else:\n",
    "    print(\"invalid operator\")"
   ]
  },
  {
   "cell_type": "code",
   "execution_count": 3,
   "id": "b051780c",
   "metadata": {},
   "outputs": [
    {
     "name": "stdout",
     "output_type": "stream",
     "text": [
      "exist\n"
     ]
    }
   ],
   "source": [
    "list1 =[1,2,3,4,5]\n",
    "if 2 in list1:\n",
    "    print('exist')"
   ]
  },
  {
   "cell_type": "markdown",
   "id": "0f4ba8ae",
   "metadata": {},
   "source": [
    "# Tuples in loop"
   ]
  },
  {
   "cell_type": "code",
   "execution_count": 6,
   "id": "1cad800d",
   "metadata": {},
   "outputs": [
    {
     "name": "stdout",
     "output_type": "stream",
     "text": [
      "apple\n",
      "banana\n",
      "cherry\n",
      "2\n"
     ]
    }
   ],
   "source": [
    "thistuple = (\"apple\", \"banana\", \"cherry\",2)\n",
    "for x in thistuple:\n",
    "  print(x)"
   ]
  },
  {
   "cell_type": "code",
   "execution_count": 5,
   "id": "c0c5fa64",
   "metadata": {},
   "outputs": [
    {
     "name": "stdout",
     "output_type": "stream",
     "text": [
      "apple\n",
      "banana\n",
      "cherry\n"
     ]
    }
   ],
   "source": [
    "thistuple = (\"apple\", \"banana\", \"cherry\")\n",
    "for i in range(len(thistuple)):\n",
    "  print(thistuple[i])"
   ]
  },
  {
   "cell_type": "markdown",
   "id": "f5c2e969",
   "metadata": {},
   "source": [
    "# Loop"
   ]
  },
  {
   "cell_type": "code",
   "execution_count": 68,
   "id": "ca49bb32",
   "metadata": {},
   "outputs": [
    {
     "name": "stdout",
     "output_type": "stream",
     "text": [
      "0\n",
      "1\n",
      "2\n",
      "3\n",
      "4\n",
      "5\n",
      "6\n",
      "7\n",
      "8\n",
      "9\n"
     ]
    }
   ],
   "source": [
    "a = 0\n",
    "while (a < 10):\n",
    "    print(a)\n",
    "    a += 1\n"
   ]
  },
  {
   "cell_type": "code",
   "execution_count": 2,
   "id": "c1efe56e",
   "metadata": {},
   "outputs": [
    {
     "name": "stdout",
     "output_type": "stream",
     "text": [
      "21\n"
     ]
    }
   ],
   "source": [
    "list1 = [1,2,3,4,5,6]\n",
    "sum = 0\n",
    "i = 0\n",
    "while  i <= len(list1):\n",
    "    sum +=i\n",
    "    i +=1\n",
    "print(sum)"
   ]
  },
  {
   "cell_type": "markdown",
   "id": "f39fa720",
   "metadata": {},
   "source": [
    "# The break Statement"
   ]
  },
  {
   "cell_type": "code",
   "execution_count": 7,
   "id": "06daa134",
   "metadata": {},
   "outputs": [
    {
     "name": "stdout",
     "output_type": "stream",
     "text": [
      "1\n",
      "2\n",
      "3\n"
     ]
    }
   ],
   "source": [
    "i = 1\n",
    "while i < 6:\n",
    "  print(i)\n",
    "  if i == 3:\n",
    "    break\n",
    "  i += 1"
   ]
  },
  {
   "cell_type": "markdown",
   "id": "16ae24c5",
   "metadata": {},
   "source": [
    "# For loops"
   ]
  },
  {
   "cell_type": "code",
   "execution_count": 8,
   "id": "e7a9cf43",
   "metadata": {},
   "outputs": [
    {
     "name": "stdout",
     "output_type": "stream",
     "text": [
      "a r t i f i c i a l "
     ]
    }
   ],
   "source": [
    "for val in 'artificial':\n",
    "    print(val, end=' ')"
   ]
  },
  {
   "cell_type": "code",
   "execution_count": 19,
   "id": "85036e51",
   "metadata": {},
   "outputs": [
    {
     "name": "stdout",
     "output_type": "stream",
     "text": [
      "2\n",
      "3\n",
      "4\n",
      "5\n",
      "6\n",
      "7\n",
      "8\n",
      "9\n"
     ]
    }
   ],
   "source": [
    "friends = ['adem','mahi','sudeys']\n",
    "for lets in range(2,10):\n",
    "    print(lets)"
   ]
  },
  {
   "cell_type": "code",
   "execution_count": 32,
   "id": "f87e6086",
   "metadata": {},
   "outputs": [
    {
     "name": "stdout",
     "output_type": "stream",
     "text": [
      "sep\n",
      "oct\n",
      "november\n"
     ]
    }
   ],
   "source": [
    "montConcersion={\n",
    "    1 :\"sep\",\n",
    "    2 : \"oct\",\n",
    "    3 : \"november\"\n",
    "}\n",
    "for lets in montConcersion:\n",
    "    print(montConcersion[lets])"
   ]
  },
  {
   "cell_type": "code",
   "execution_count": 5,
   "id": "1db602e0",
   "metadata": {},
   "outputs": [
    {
     "name": "stdout",
     "output_type": "stream",
     "text": [
      "0\n",
      "1\n",
      "2\n",
      "3\n",
      "4\n"
     ]
    }
   ],
   "source": [
    "for i in range(5):\n",
    "    print(i)"
   ]
  },
  {
   "cell_type": "code",
   "execution_count": 9,
   "id": "36931d95",
   "metadata": {},
   "outputs": [
    {
     "name": "stdout",
     "output_type": "stream",
     "text": [
      "2 the numbers are even\n"
     ]
    }
   ],
   "source": [
    "num=[2,4,6,7,8,9,10]\n",
    "for i in num:\n",
    "    if i%2 == 0 :\n",
    "        print( i , \"the numbers are even\")\n",
    "        break\n",
    "    else :\n",
    "        print(\"the numbers are odd\")"
   ]
  },
  {
   "cell_type": "code",
   "execution_count": 11,
   "id": "b388f95b",
   "metadata": {},
   "outputs": [
    {
     "name": "stdout",
     "output_type": "stream",
     "text": [
      "The sum is 5050\n"
     ]
    }
   ],
   "source": [
    "s = 0\n",
    "for i in range(1,101):\n",
    "    s = s + i\n",
    "print('The sum is', s)"
   ]
  },
  {
   "cell_type": "code",
   "execution_count": 12,
   "id": "a4a0cee8",
   "metadata": {},
   "outputs": [
    {
     "name": "stdout",
     "output_type": "stream",
     "text": [
      "5 4 3 2 1 last\n"
     ]
    }
   ],
   "source": [
    "for i in range(5, 0, -1):\n",
    "    print(i, end=\" \")\n",
    "print(\"last\")"
   ]
  },
  {
   "cell_type": "code",
   "execution_count": 13,
   "id": "564fad85",
   "metadata": {},
   "outputs": [
    {
     "name": "stdout",
     "output_type": "stream",
     "text": [
      "2 the numbers are even\n"
     ]
    }
   ],
   "source": [
    "num=[2,4,6,7,8,9,10]\n",
    "for i in num:\n",
    "    if i%2 == 0 :\n",
    "        print( i , \"the numbers are even\")\n",
    "        break\n",
    "    else :\n",
    "        print(\"the numbers are odd\")"
   ]
  },
  {
   "cell_type": "code",
   "execution_count": 39,
   "id": "3e98caed",
   "metadata": {},
   "outputs": [
    {
     "name": "stdout",
     "output_type": "stream",
     "text": [
      "Name :  Zara , Salary:  2000\n"
     ]
    }
   ],
   "source": [
    "class Employee:\n",
    "    def __init__(self, name, salary):\n",
    "        self.name = name\n",
    "        self.salary = salary\n",
    "    def addemp(self):\n",
    "        print (\"Name : \", self.name,\", Salary: \", self.salary)\n",
    "        \n",
    "k = Employee(\"Zara\", 2000)\n",
    "k.addemp()"
   ]
  },
  {
   "cell_type": "code",
   "execution_count": 33,
   "id": "a2ba02c3",
   "metadata": {},
   "outputs": [
    {
     "name": "stdout",
     "output_type": "stream",
     "text": [
      "John\n",
      "36\n"
     ]
    }
   ],
   "source": [
    "class Person:\n",
    "  def __init__(self, name, age):\n",
    "    self.name = name\n",
    "    self.age = age\n",
    "\n",
    "p1 = Person(\"John\", 36)\n",
    "\n",
    "print(p1.name)\n",
    "print(p1.age)"
   ]
  },
  {
   "cell_type": "code",
   "execution_count": 40,
   "id": "62ca62d7",
   "metadata": {},
   "outputs": [
    {
     "name": "stdout",
     "output_type": "stream",
     "text": [
      "15\n",
      "5\n",
      "50\n"
     ]
    }
   ],
   "source": [
    "class Calculator:\n",
    "    def __init__(self, c, d):\n",
    "        self.c = c\n",
    "        self.d = d\n",
    "    def add(self):\n",
    "        return self.c + self.d\n",
    "    def sub(self):\n",
    "        return self.c - self.d\n",
    "    def mul(self):\n",
    "        return self.c * self.d\n",
    "k = Calculator(10, 5)\n",
    "print(k.add())\n",
    "print(k.sub())\n",
    "print(k.mul())"
   ]
  },
  {
   "cell_type": "code",
   "execution_count": null,
   "id": "ca3a1d1e",
   "metadata": {},
   "outputs": [],
   "source": []
  },
  {
   "cell_type": "code",
   "execution_count": null,
   "id": "b03ab353",
   "metadata": {},
   "outputs": [],
   "source": []
  }
 ],
 "metadata": {
  "kernelspec": {
   "display_name": "Python 3 (ipykernel)",
   "language": "python",
   "name": "python3"
  },
  "language_info": {
   "codemirror_mode": {
    "name": "ipython",
    "version": 3
   },
   "file_extension": ".py",
   "mimetype": "text/x-python",
   "name": "python",
   "nbconvert_exporter": "python",
   "pygments_lexer": "ipython3",
   "version": "3.9.12"
  }
 },
 "nbformat": 4,
 "nbformat_minor": 5
}
